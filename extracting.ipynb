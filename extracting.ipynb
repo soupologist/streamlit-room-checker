{
 "cells": [
  {
   "cell_type": "code",
   "execution_count": null,
   "metadata": {
    "vscode": {
     "languageId": "plaintext"
    }
   },
   "outputs": [],
   "source": [
    "import pdfplumber\n",
    "import pandas as pd\n",
    "\n",
    "# Path to the uploaded PDF\n",
    "pdf_path = \"./MIDSEM.pdf\"\n",
    "\n",
    "# Extract text from the PDF\n",
    "data = []\n",
    "with pdfplumber.open(pdf_path) as pdf:\n",
    "    for page in pdf.pages:\n",
    "        tables = page.extract_table()\n",
    "        if tables:\n",
    "            data.extend(tables)\n",
    "\n",
    "# Convert to DataFrame\n",
    "df = pd.DataFrame(data)\n",
    "df.head()  # Show first few rows to inspect data structure\n"
   ]
  }
 ],
 "metadata": {
  "language_info": {
   "name": "python"
  }
 },
 "nbformat": 4,
 "nbformat_minor": 2
}
